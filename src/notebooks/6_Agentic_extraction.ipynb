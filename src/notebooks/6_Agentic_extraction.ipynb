{
 "cells": [
  {
   "cell_type": "code",
   "execution_count": 1,
   "metadata": {},
   "outputs": [
    {
     "data": {
      "text/plain": [
       "Counter({'Vivek': 125676,\n",
       "         'Nikhil': 125367,\n",
       "         'Meghna': 125365,\n",
       "         'Atrayee': 125199,\n",
       "         'Chandan': 124988,\n",
       "         'Dhruv': 124736,\n",
       "         'Atul': 124461,\n",
       "         'Amit': 124208})"
      ]
     },
     "execution_count": 1,
     "metadata": {},
     "output_type": "execute_result"
    }
   ],
   "source": [
    "import random\n",
    "from collections import Counter\n",
    "import pandas as pd\n",
    "\n",
    "\n",
    "scapegoats= [\"Amit\", \"Atul\", \"Atrayee\", \"Chandan\",\"Dhruv\", \"Meghna\", \"Nikhil\", \"Vivek\"]\n",
    "iterations= 1000000\n",
    "\n",
    "scapegoat_count= [random.choice(scapegoats) for i in range(iterations)]\n",
    "\n",
    "Counter(scapegoat_count)\n"
   ]
  },
  {
   "cell_type": "code",
   "execution_count": 5,
   "metadata": {},
   "outputs": [
    {
     "ename": "ImportError",
     "evalue": "cannot import name 'RunCancelledException' from 'agno.exceptions' (c:\\Users\\53344\\Downloads\\Cases\\Mugen\\mugen\\lib\\site-packages\\agno\\exceptions.py)",
     "output_type": "error",
     "traceback": [
      "\u001b[1;31m---------------------------------------------------------------------------\u001b[0m",
      "\u001b[1;31mImportError\u001b[0m                               Traceback (most recent call last)",
      "Cell \u001b[1;32mIn[5], line 7\u001b[0m\n\u001b[0;32m      5\u001b[0m \u001b[38;5;28;01mfrom\u001b[39;00m\u001b[38;5;250m \u001b[39m\u001b[38;5;21;01magno\u001b[39;00m\u001b[38;5;21;01m.\u001b[39;00m\u001b[38;5;21;01mutils\u001b[39;00m\u001b[38;5;21;01m.\u001b[39;00m\u001b[38;5;21;01mpprint\u001b[39;00m\u001b[38;5;250m \u001b[39m\u001b[38;5;28;01mimport\u001b[39;00m pprint_run_response\n\u001b[0;32m      6\u001b[0m \u001b[38;5;28;01mfrom\u001b[39;00m\u001b[38;5;250m \u001b[39m\u001b[38;5;21;01mpydantic\u001b[39;00m\u001b[38;5;250m \u001b[39m\u001b[38;5;28;01mimport\u001b[39;00m BaseModel\n\u001b[1;32m----> 7\u001b[0m \u001b[38;5;28;01mfrom\u001b[39;00m\u001b[38;5;250m \u001b[39m\u001b[38;5;21;01magno\u001b[39;00m\u001b[38;5;21;01m.\u001b[39;00m\u001b[38;5;21;01mteam\u001b[39;00m\u001b[38;5;250m \u001b[39m\u001b[38;5;28;01mimport\u001b[39;00m Team\n\u001b[0;32m     10\u001b[0m \u001b[38;5;28;01mdef\u001b[39;00m\u001b[38;5;250m \u001b[39m\u001b[38;5;21mretriever\u001b[39m(agent: Agent, query: \u001b[38;5;28mstr\u001b[39m, num_documents: Optional[\u001b[38;5;28mint\u001b[39m], \u001b[38;5;241m*\u001b[39m\u001b[38;5;241m*\u001b[39mkwargs) \u001b[38;5;241m-\u001b[39m\u001b[38;5;241m>\u001b[39m Optional[\u001b[38;5;28mlist\u001b[39m[\u001b[38;5;28mdict\u001b[39m]]:\n\u001b[0;32m     11\u001b[0m   \u001b[38;5;28;01mpass\u001b[39;00m\n",
      "File \u001b[1;32mc:\\Users\\53344\\Downloads\\Cases\\Mugen\\mugen\\lib\\site-packages\\agno\\team\\__init__.py:1\u001b[0m\n\u001b[1;32m----> 1\u001b[0m \u001b[38;5;28;01mfrom\u001b[39;00m\u001b[38;5;250m \u001b[39m\u001b[38;5;21;01magno\u001b[39;00m\u001b[38;5;21;01m.\u001b[39;00m\u001b[38;5;21;01mteam\u001b[39;00m\u001b[38;5;21;01m.\u001b[39;00m\u001b[38;5;21;01mteam\u001b[39;00m\u001b[38;5;250m \u001b[39m\u001b[38;5;28;01mimport\u001b[39;00m Team\n",
      "File \u001b[1;32mc:\\Users\\53344\\Downloads\\Cases\\Mugen\\mugen\\lib\\site-packages\\agno\\team\\team.py:29\u001b[0m\n\u001b[0;32m     27\u001b[0m \u001b[38;5;28;01mfrom\u001b[39;00m\u001b[38;5;250m \u001b[39m\u001b[38;5;21;01magno\u001b[39;00m\u001b[38;5;21;01m.\u001b[39;00m\u001b[38;5;21;01magent\u001b[39;00m\u001b[38;5;250m \u001b[39m\u001b[38;5;28;01mimport\u001b[39;00m Agent\n\u001b[0;32m     28\u001b[0m \u001b[38;5;28;01mfrom\u001b[39;00m\u001b[38;5;250m \u001b[39m\u001b[38;5;21;01magno\u001b[39;00m\u001b[38;5;21;01m.\u001b[39;00m\u001b[38;5;21;01magent\u001b[39;00m\u001b[38;5;21;01m.\u001b[39;00m\u001b[38;5;21;01mmetrics\u001b[39;00m\u001b[38;5;250m \u001b[39m\u001b[38;5;28;01mimport\u001b[39;00m SessionMetrics\n\u001b[1;32m---> 29\u001b[0m \u001b[38;5;28;01mfrom\u001b[39;00m\u001b[38;5;250m \u001b[39m\u001b[38;5;21;01magno\u001b[39;00m\u001b[38;5;21;01m.\u001b[39;00m\u001b[38;5;21;01mexceptions\u001b[39;00m\u001b[38;5;250m \u001b[39m\u001b[38;5;28;01mimport\u001b[39;00m ModelProviderError, RunCancelledException\n\u001b[0;32m     30\u001b[0m \u001b[38;5;28;01mfrom\u001b[39;00m\u001b[38;5;250m \u001b[39m\u001b[38;5;21;01magno\u001b[39;00m\u001b[38;5;21;01m.\u001b[39;00m\u001b[38;5;21;01mmedia\u001b[39;00m\u001b[38;5;250m \u001b[39m\u001b[38;5;28;01mimport\u001b[39;00m Audio, AudioArtifact, AudioResponse, File, Image, ImageArtifact, Video, VideoArtifact\n\u001b[0;32m     31\u001b[0m \u001b[38;5;28;01mfrom\u001b[39;00m\u001b[38;5;250m \u001b[39m\u001b[38;5;21;01magno\u001b[39;00m\u001b[38;5;21;01m.\u001b[39;00m\u001b[38;5;21;01mmemory\u001b[39;00m\u001b[38;5;21;01m.\u001b[39;00m\u001b[38;5;21;01mmemory\u001b[39;00m\u001b[38;5;250m \u001b[39m\u001b[38;5;28;01mimport\u001b[39;00m Memory\n",
      "\u001b[1;31mImportError\u001b[0m: cannot import name 'RunCancelledException' from 'agno.exceptions' (c:\\Users\\53344\\Downloads\\Cases\\Mugen\\mugen\\lib\\site-packages\\agno\\exceptions.py)"
     ]
    }
   ],
   "source": [
    "from typing import Iterator, List, Dict, Optional\n",
    "from agno.agent import Agent, RunResponse\n",
    "from agno.models.openai import OpenAIChat\n",
    "from agno.tools.duckduckgo import DuckDuckGoTools\n",
    "from agno.utils.pprint import pprint_run_response\n",
    "from pydantic import BaseModel\n",
    "from agno.team import Team\n",
    "\n",
    "\n",
    "def retriever(agent: Agent, query: str, num_documents: Optional[int], **kwargs) -> Optional[list[dict]]:\n",
    "  pass\n",
    "  \n",
    "\n",
    "class NewsSummaryScript(BaseModel):\n",
    "\n",
    "    news: str = Field(..., description=\"A one minute long script for the news piece, ideal for an Youtube Short or Instagram reel for informing on the topic\")\n",
    "    # link: str = Field(..., description=\"The link to the original news source\")\n",
    "\n",
    "class NewsSummaries(BaseModel):\n",
    "\n",
    "    summaries: List[NewsSummaryScript]= Field(..., description=\"A list of the scripts of multiple news pieces\")\n",
    "\n",
    "\n",
    "\n",
    "main_agent = Agent(\n",
    "    model=OpenAIChat(id=\"gpt-4o\"),\n",
    "    description=\"You are an research assistant who is able to go through multiple news stories provided to you and summarize them neatly. You will be provided a topic which you need to research.\",\n",
    "    # tools=[DuckDuckGoTools(fixed_max_results=10)],\n",
    "    # response_model=NewsSummaries,\n",
    "    structured_outputs=True,\n",
    "    markdown=True,\n",
    "    reasoning=True,\n",
    "    update_knowledge=True,\n",
    "    read_chat_history=True,\n",
    "    show_tool_calls=True,\n",
    ")\n",
    "\n",
    "web_search_agent = Agent(\n",
    "    name=\"Researcher\",\n",
    "    role=\"Expert at finding information\",\n",
    "    tools=[DuckDuckGoTools()],\n",
    "    model=OpenAIChat(\"gpt-4o\"),\n",
    ")\n",
    "\n",
    "web_search_agent = Agent(\n",
    "    name=\"Researcher\",\n",
    "    role=\"Expert at finding information\",\n",
    "    tools=[DuckDuckGoTools()],\n",
    "    model=OpenAIChat(\"gpt-4o\"),\n",
    ")\n",
    "\n",
    "\n",
    "coding_agent = Agent(\n",
    "    name=\"Web searcher\",\n",
    "    role=\"Expert at finding information\",\n",
    "    tools=[DuckDuckGoTools()],\n",
    "    model=OpenAIChat(\"gpt-4o\"),\n",
    ")\n",
    "\n",
    "mind_map_agent= Agent(\n",
    "    name=\"Web searcher\",\n",
    "    role=\"Expert at finding information\",\n",
    "    tools=[DuckDuckGoTools()],\n",
    "    model=OpenAIChat(\"gpt-4o\"),\n",
    ") \n",
    "\n",
    "\n",
    "team = Team(\n",
    "    members=[main_agent, web_search_agent, agent3],\n",
    "    enable_agentic_context=True,  # Enable Team Leader to maintain Agentic Context\n",
    "    share_member_interactions=True,  # Share interactions\n",
    "    enable_team_history=True,\n",
    "    num_of_interactions_from_history=5,\n",
    "\n",
    "\n",
    ")\n"
   ]
  },
  {
   "cell_type": "code",
   "execution_count": 49,
   "metadata": {},
   "outputs": [
    {
     "data": {
      "application/vnd.jupyter.widget-view+json": {
       "model_id": "b34dba85e4f141e59c0c7de4ce9be196",
       "version_major": 2,
       "version_minor": 0
      },
      "text/plain": [
       "Output()"
      ]
     },
     "metadata": {},
     "output_type": "display_data"
    },
    {
     "data": {
      "text/html": [
       "<pre style=\"white-space:pre;overflow-x:auto;line-height:normal;font-family:Menlo,'DejaVu Sans Mono',consolas,'Courier New',monospace\"><span style=\"color: #800000; text-decoration-color: #800000; font-weight: bold\">ERROR   </span> API status error from OpenAI API: Error code: <span style=\"color: #008080; text-decoration-color: #008080; font-weight: bold\">400</span> - <span style=\"font-weight: bold\">{</span><span style=\"color: #008000; text-decoration-color: #008000\">'error'</span>: <span style=\"font-weight: bold\">{</span><span style=\"color: #008000; text-decoration-color: #008000\">'message'</span>: <span style=\"color: #008000; text-decoration-color: #008000\">\"Invalid schema for function </span>   \n",
       "         <span style=\"color: #008000; text-decoration-color: #008000\">'duckduckgo_search': In context=(), 'additionalProperties' is required to be supplied and to be false.\"</span>,  \n",
       "         <span style=\"color: #008000; text-decoration-color: #008000\">'type'</span>: <span style=\"color: #008000; text-decoration-color: #008000\">'invalid_request_error'</span>, <span style=\"color: #008000; text-decoration-color: #008000\">'param'</span>: <span style=\"color: #008000; text-decoration-color: #008000\">'tools[0].function.parameters'</span>, <span style=\"color: #008000; text-decoration-color: #008000\">'code'</span>:                         \n",
       "         <span style=\"color: #008000; text-decoration-color: #008000\">'invalid_function_parameters'</span><span style=\"font-weight: bold\">}}</span>                                                                           \n",
       "</pre>\n"
      ],
      "text/plain": [
       "\u001b[1;31mERROR   \u001b[0m API status error from OpenAI API: Error code: \u001b[1;36m400\u001b[0m - \u001b[1m{\u001b[0m\u001b[32m'error'\u001b[0m: \u001b[1m{\u001b[0m\u001b[32m'message'\u001b[0m: \u001b[32m\"Invalid schema for function \u001b[0m   \n",
       "         \u001b[32m'duckduckgo_search': In \u001b[0m\u001b[32mcontext\u001b[0m\u001b[32m=\u001b[0m\u001b[32m(\u001b[0m\u001b[32m)\u001b[0m\u001b[32m, 'additionalProperties' is required to be supplied and to be false.\"\u001b[0m,  \n",
       "         \u001b[32m'type'\u001b[0m: \u001b[32m'invalid_request_error'\u001b[0m, \u001b[32m'param'\u001b[0m: \u001b[32m'tools\u001b[0m\u001b[32m[\u001b[0m\u001b[32m0\u001b[0m\u001b[32m]\u001b[0m\u001b[32m.function.parameters'\u001b[0m, \u001b[32m'code'\u001b[0m:                         \n",
       "         \u001b[32m'invalid_function_parameters'\u001b[0m\u001b[1m}\u001b[0m\u001b[1m}\u001b[0m                                                                           \n"
      ]
     },
     "metadata": {},
     "output_type": "display_data"
    },
    {
     "data": {
      "text/html": [
       "<pre style=\"white-space:pre;overflow-x:auto;line-height:normal;font-family:Menlo,'DejaVu Sans Mono',consolas,'Courier New',monospace\"><span style=\"color: #808000; text-decoration-color: #808000\">WARNING </span> Attempt <span style=\"color: #008080; text-decoration-color: #008080; font-weight: bold\">1</span>/<span style=\"color: #008080; text-decoration-color: #008080; font-weight: bold\">1</span> failed: Invalid schema for function <span style=\"color: #008000; text-decoration-color: #008000\">'duckduckgo_search'</span>: In <span style=\"color: #808000; text-decoration-color: #808000\">context</span>=<span style=\"font-weight: bold\">()</span>, <span style=\"color: #008000; text-decoration-color: #008000\">'additionalProperties'</span>\n",
       "         is required to be supplied and to be false.                                                               \n",
       "</pre>\n"
      ],
      "text/plain": [
       "\u001b[33mWARNING \u001b[0m Attempt \u001b[1;36m1\u001b[0m/\u001b[1;36m1\u001b[0m failed: Invalid schema for function \u001b[32m'duckduckgo_search'\u001b[0m: In \u001b[33mcontext\u001b[0m=\u001b[1m(\u001b[0m\u001b[1m)\u001b[0m, \u001b[32m'additionalProperties'\u001b[0m\n",
       "         is required to be supplied and to be false.                                                               \n"
      ]
     },
     "metadata": {},
     "output_type": "display_data"
    },
    {
     "data": {
      "text/html": [
       "<pre style=\"white-space:pre;overflow-x:auto;line-height:normal;font-family:Menlo,'DejaVu Sans Mono',consolas,'Courier New',monospace\"><span style=\"color: #800000; text-decoration-color: #800000; font-weight: bold\">ERROR   </span> Failed after <span style=\"color: #008080; text-decoration-color: #008080; font-weight: bold\">1</span> attempts. Last error using <span style=\"color: #800080; text-decoration-color: #800080; font-weight: bold\">OpenAIChat</span><span style=\"font-weight: bold\">(</span>gpt-4o<span style=\"font-weight: bold\">)</span>                                              \n",
       "</pre>\n"
      ],
      "text/plain": [
       "\u001b[1;31mERROR   \u001b[0m Failed after \u001b[1;36m1\u001b[0m attempts. Last error using \u001b[1;35mOpenAIChat\u001b[0m\u001b[1m(\u001b[0mgpt-4o\u001b[1m)\u001b[0m                                              \n"
      ]
     },
     "metadata": {},
     "output_type": "display_data"
    },
    {
     "data": {
      "text/html": [
       "<pre style=\"white-space:pre;overflow-x:auto;line-height:normal;font-family:Menlo,'DejaVu Sans Mono',consolas,'Courier New',monospace\"><span style=\"color: #800000; text-decoration-color: #800000; font-weight: bold\">ERROR   </span> Reasoning error: Invalid schema for function <span style=\"color: #008000; text-decoration-color: #008000\">'duckduckgo_search'</span>: In <span style=\"color: #808000; text-decoration-color: #808000\">context</span>=<span style=\"font-weight: bold\">()</span>, <span style=\"color: #008000; text-decoration-color: #008000\">'additionalProperties'</span> is\n",
       "         required to be supplied and to be false.                                                                  \n",
       "</pre>\n"
      ],
      "text/plain": [
       "\u001b[1;31mERROR   \u001b[0m Reasoning error: Invalid schema for function \u001b[32m'duckduckgo_search'\u001b[0m: In \u001b[33mcontext\u001b[0m=\u001b[1m(\u001b[0m\u001b[1m)\u001b[0m, \u001b[32m'additionalProperties'\u001b[0m is\n",
       "         required to be supplied and to be false.                                                                  \n"
      ]
     },
     "metadata": {},
     "output_type": "display_data"
    },
    {
     "data": {
      "text/html": [
       "<pre style=\"white-space:pre;overflow-x:auto;line-height:normal;font-family:Menlo,'DejaVu Sans Mono',consolas,'Courier New',monospace\"></pre>\n"
      ],
      "text/plain": []
     },
     "metadata": {},
     "output_type": "display_data"
    }
   ],
   "source": [
    "agent.print_response(query, stream=True, show_full_reasoning=True)"
   ]
  },
  {
   "cell_type": "code",
   "execution_count": 44,
   "metadata": {},
   "outputs": [
    {
     "data": {
      "text/html": [
       "<pre style=\"white-space:pre;overflow-x:auto;line-height:normal;font-family:Menlo,'DejaVu Sans Mono',consolas,'Courier New',monospace\"><span style=\"color: #800000; text-decoration-color: #800000; font-weight: bold\">ERROR   </span> API status error from OpenAI API: Error code: <span style=\"color: #008080; text-decoration-color: #008080; font-weight: bold\">400</span> - <span style=\"font-weight: bold\">{</span><span style=\"color: #008000; text-decoration-color: #008000\">'error'</span>: <span style=\"font-weight: bold\">{</span><span style=\"color: #008000; text-decoration-color: #008000\">'message'</span>: <span style=\"color: #008000; text-decoration-color: #008000\">\"Invalid schema for function </span>   \n",
       "         <span style=\"color: #008000; text-decoration-color: #008000\">'duckduckgo_search': In context=(), 'additionalProperties' is required to be supplied and to be false.\"</span>,  \n",
       "         <span style=\"color: #008000; text-decoration-color: #008000\">'type'</span>: <span style=\"color: #008000; text-decoration-color: #008000\">'invalid_request_error'</span>, <span style=\"color: #008000; text-decoration-color: #008000\">'param'</span>: <span style=\"color: #008000; text-decoration-color: #008000\">'tools[0].function.parameters'</span>, <span style=\"color: #008000; text-decoration-color: #008000\">'code'</span>:                         \n",
       "         <span style=\"color: #008000; text-decoration-color: #008000\">'invalid_function_parameters'</span><span style=\"font-weight: bold\">}}</span>                                                                           \n",
       "</pre>\n"
      ],
      "text/plain": [
       "\u001b[1;31mERROR   \u001b[0m API status error from OpenAI API: Error code: \u001b[1;36m400\u001b[0m - \u001b[1m{\u001b[0m\u001b[32m'error'\u001b[0m: \u001b[1m{\u001b[0m\u001b[32m'message'\u001b[0m: \u001b[32m\"Invalid schema for function \u001b[0m   \n",
       "         \u001b[32m'duckduckgo_search': In \u001b[0m\u001b[32mcontext\u001b[0m\u001b[32m=\u001b[0m\u001b[32m(\u001b[0m\u001b[32m)\u001b[0m\u001b[32m, 'additionalProperties' is required to be supplied and to be false.\"\u001b[0m,  \n",
       "         \u001b[32m'type'\u001b[0m: \u001b[32m'invalid_request_error'\u001b[0m, \u001b[32m'param'\u001b[0m: \u001b[32m'tools\u001b[0m\u001b[32m[\u001b[0m\u001b[32m0\u001b[0m\u001b[32m]\u001b[0m\u001b[32m.function.parameters'\u001b[0m, \u001b[32m'code'\u001b[0m:                         \n",
       "         \u001b[32m'invalid_function_parameters'\u001b[0m\u001b[1m}\u001b[0m\u001b[1m}\u001b[0m                                                                           \n"
      ]
     },
     "metadata": {},
     "output_type": "display_data"
    },
    {
     "data": {
      "text/html": [
       "<pre style=\"white-space:pre;overflow-x:auto;line-height:normal;font-family:Menlo,'DejaVu Sans Mono',consolas,'Courier New',monospace\"><span style=\"color: #808000; text-decoration-color: #808000\">WARNING </span> Attempt <span style=\"color: #008080; text-decoration-color: #008080; font-weight: bold\">1</span>/<span style=\"color: #008080; text-decoration-color: #008080; font-weight: bold\">1</span> failed: Invalid schema for function <span style=\"color: #008000; text-decoration-color: #008000\">'duckduckgo_search'</span>: In <span style=\"color: #808000; text-decoration-color: #808000\">context</span>=<span style=\"font-weight: bold\">()</span>, <span style=\"color: #008000; text-decoration-color: #008000\">'additionalProperties'</span>\n",
       "         is required to be supplied and to be false.                                                               \n",
       "</pre>\n"
      ],
      "text/plain": [
       "\u001b[33mWARNING \u001b[0m Attempt \u001b[1;36m1\u001b[0m/\u001b[1;36m1\u001b[0m failed: Invalid schema for function \u001b[32m'duckduckgo_search'\u001b[0m: In \u001b[33mcontext\u001b[0m=\u001b[1m(\u001b[0m\u001b[1m)\u001b[0m, \u001b[32m'additionalProperties'\u001b[0m\n",
       "         is required to be supplied and to be false.                                                               \n"
      ]
     },
     "metadata": {},
     "output_type": "display_data"
    },
    {
     "data": {
      "text/html": [
       "<pre style=\"white-space:pre;overflow-x:auto;line-height:normal;font-family:Menlo,'DejaVu Sans Mono',consolas,'Courier New',monospace\"><span style=\"color: #800000; text-decoration-color: #800000; font-weight: bold\">ERROR   </span> Failed after <span style=\"color: #008080; text-decoration-color: #008080; font-weight: bold\">1</span> attempts. Last error using <span style=\"color: #800080; text-decoration-color: #800080; font-weight: bold\">OpenAIChat</span><span style=\"font-weight: bold\">(</span>gpt-4o<span style=\"font-weight: bold\">)</span>                                              \n",
       "</pre>\n"
      ],
      "text/plain": [
       "\u001b[1;31mERROR   \u001b[0m Failed after \u001b[1;36m1\u001b[0m attempts. Last error using \u001b[1;35mOpenAIChat\u001b[0m\u001b[1m(\u001b[0mgpt-4o\u001b[1m)\u001b[0m                                              \n"
      ]
     },
     "metadata": {},
     "output_type": "display_data"
    },
    {
     "data": {
      "text/html": [
       "<pre style=\"white-space:pre;overflow-x:auto;line-height:normal;font-family:Menlo,'DejaVu Sans Mono',consolas,'Courier New',monospace\"><span style=\"color: #800000; text-decoration-color: #800000; font-weight: bold\">ERROR   </span> Reasoning error: Invalid schema for function <span style=\"color: #008000; text-decoration-color: #008000\">'duckduckgo_search'</span>: In <span style=\"color: #808000; text-decoration-color: #808000\">context</span>=<span style=\"font-weight: bold\">()</span>, <span style=\"color: #008000; text-decoration-color: #008000\">'additionalProperties'</span> is\n",
       "         required to be supplied and to be false.                                                                  \n",
       "</pre>\n"
      ],
      "text/plain": [
       "\u001b[1;31mERROR   \u001b[0m Reasoning error: Invalid schema for function \u001b[32m'duckduckgo_search'\u001b[0m: In \u001b[33mcontext\u001b[0m=\u001b[1m(\u001b[0m\u001b[1m)\u001b[0m, \u001b[32m'additionalProperties'\u001b[0m is\n",
       "         required to be supplied and to be false.                                                                  \n"
      ]
     },
     "metadata": {},
     "output_type": "display_data"
    },
    {
     "data": {
      "text/html": [
       "<pre style=\"white-space:pre;overflow-x:auto;line-height:normal;font-family:Menlo,'DejaVu Sans Mono',consolas,'Courier New',monospace\"><span style=\"color: #000080; text-decoration-color: #000080\">╭─────────────────────────────────────────────────────────────────────────────────────────────────────────────────╮</span>\n",
       "<span style=\"color: #000080; text-decoration-color: #000080\">│</span> Here's a step-by-step solution to ensure all three missionaries and three cannibals cross the river safely      <span style=\"color: #000080; text-decoration-color: #000080\">│</span>\n",
       "<span style=\"color: #000080; text-decoration-color: #000080\">│</span> without any missionaries being eaten:                                                                           <span style=\"color: #000080; text-decoration-color: #000080\">│</span>\n",
       "<span style=\"color: #000080; text-decoration-color: #000080\">│</span>                                                                                                                 <span style=\"color: #000080; text-decoration-color: #000080\">│</span>\n",
       "<span style=\"color: #000080; text-decoration-color: #000080\">│</span> ### Step-by-Step Instructions                                                                                   <span style=\"color: #000080; text-decoration-color: #000080\">│</span>\n",
       "<span style=\"color: #000080; text-decoration-color: #000080\">│</span>                                                                                                                 <span style=\"color: #000080; text-decoration-color: #000080\">│</span>\n",
       "<span style=\"color: #000080; text-decoration-color: #000080\">│</span> 1. **Initial Setup:**                                                                                           <span style=\"color: #000080; text-decoration-color: #000080\">│</span>\n",
       "<span style=\"color: #000080; text-decoration-color: #000080\">│</span>    - Left Bank: MMM CCC                                                                                         <span style=\"color: #000080; text-decoration-color: #000080\">│</span>\n",
       "<span style=\"color: #000080; text-decoration-color: #000080\">│</span>    - Right Bank:                                                                                                <span style=\"color: #000080; text-decoration-color: #000080\">│</span>\n",
       "<span style=\"color: #000080; text-decoration-color: #000080\">│</span>                                                                                                                 <span style=\"color: #000080; text-decoration-color: #000080\">│</span>\n",
       "<span style=\"color: #000080; text-decoration-color: #000080\">│</span> 2. **Move 1: Two Cannibals Cross**                                                                              <span style=\"color: #000080; text-decoration-color: #000080\">│</span>\n",
       "<span style=\"color: #000080; text-decoration-color: #000080\">│</span>    - Left Bank: MMM C                                                                                           <span style=\"color: #000080; text-decoration-color: #000080\">│</span>\n",
       "<span style=\"color: #000080; text-decoration-color: #000080\">│</span>    - Right Bank: CC                                                                                             <span style=\"color: #000080; text-decoration-color: #000080\">│</span>\n",
       "<span style=\"color: #000080; text-decoration-color: #000080\">│</span>    - Boat: C|C crosses to the right                                                                             <span style=\"color: #000080; text-decoration-color: #000080\">│</span>\n",
       "<span style=\"color: #000080; text-decoration-color: #000080\">│</span>                                                                                                                 <span style=\"color: #000080; text-decoration-color: #000080\">│</span>\n",
       "<span style=\"color: #000080; text-decoration-color: #000080\">│</span> 3. **Move 2: One Cannibal Returns**                                                                             <span style=\"color: #000080; text-decoration-color: #000080\">│</span>\n",
       "<span style=\"color: #000080; text-decoration-color: #000080\">│</span>    - Left Bank: MMM CC                                                                                          <span style=\"color: #000080; text-decoration-color: #000080\">│</span>\n",
       "<span style=\"color: #000080; text-decoration-color: #000080\">│</span>    - Right Bank: C                                                                                              <span style=\"color: #000080; text-decoration-color: #000080\">│</span>\n",
       "<span style=\"color: #000080; text-decoration-color: #000080\">│</span>    - Boat: C returns to the left                                                                                <span style=\"color: #000080; text-decoration-color: #000080\">│</span>\n",
       "<span style=\"color: #000080; text-decoration-color: #000080\">│</span>                                                                                                                 <span style=\"color: #000080; text-decoration-color: #000080\">│</span>\n",
       "<span style=\"color: #000080; text-decoration-color: #000080\">│</span> 4. **Move 3: Two Cannibals Cross**                                                                              <span style=\"color: #000080; text-decoration-color: #000080\">│</span>\n",
       "<span style=\"color: #000080; text-decoration-color: #000080\">│</span>    - Left Bank: MMM                                                                                             <span style=\"color: #000080; text-decoration-color: #000080\">│</span>\n",
       "<span style=\"color: #000080; text-decoration-color: #000080\">│</span>    - Right Bank: CCC                                                                                            <span style=\"color: #000080; text-decoration-color: #000080\">│</span>\n",
       "<span style=\"color: #000080; text-decoration-color: #000080\">│</span>    - Boat: C|C crosses to the right                                                                             <span style=\"color: #000080; text-decoration-color: #000080\">│</span>\n",
       "<span style=\"color: #000080; text-decoration-color: #000080\">│</span>                                                                                                                 <span style=\"color: #000080; text-decoration-color: #000080\">│</span>\n",
       "<span style=\"color: #000080; text-decoration-color: #000080\">│</span> 5. **Move 4: One Cannibal Returns**                                                                             <span style=\"color: #000080; text-decoration-color: #000080\">│</span>\n",
       "<span style=\"color: #000080; text-decoration-color: #000080\">│</span>    - Left Bank: MMM C                                                                                           <span style=\"color: #000080; text-decoration-color: #000080\">│</span>\n",
       "<span style=\"color: #000080; text-decoration-color: #000080\">│</span>    - Right Bank: CC                                                                                             <span style=\"color: #000080; text-decoration-color: #000080\">│</span>\n",
       "<span style=\"color: #000080; text-decoration-color: #000080\">│</span>    - Boat: C returns to the left                                                                                <span style=\"color: #000080; text-decoration-color: #000080\">│</span>\n",
       "<span style=\"color: #000080; text-decoration-color: #000080\">│</span>                                                                                                                 <span style=\"color: #000080; text-decoration-color: #000080\">│</span>\n",
       "<span style=\"color: #000080; text-decoration-color: #000080\">│</span> 6. **Move 5: Two Missionaries Cross**                                                                           <span style=\"color: #000080; text-decoration-color: #000080\">│</span>\n",
       "<span style=\"color: #000080; text-decoration-color: #000080\">│</span>    - Left Bank: M C                                                                                             <span style=\"color: #000080; text-decoration-color: #000080\">│</span>\n",
       "<span style=\"color: #000080; text-decoration-color: #000080\">│</span>    - Right Bank: MM CC                                                                                          <span style=\"color: #000080; text-decoration-color: #000080\">│</span>\n",
       "<span style=\"color: #000080; text-decoration-color: #000080\">│</span>    - Boat: M|M crosses to the right                                                                             <span style=\"color: #000080; text-decoration-color: #000080\">│</span>\n",
       "<span style=\"color: #000080; text-decoration-color: #000080\">│</span>                                                                                                                 <span style=\"color: #000080; text-decoration-color: #000080\">│</span>\n",
       "<span style=\"color: #000080; text-decoration-color: #000080\">│</span> 7. **Move 6: One Cannibal and One Missionary Return**                                                           <span style=\"color: #000080; text-decoration-color: #000080\">│</span>\n",
       "<span style=\"color: #000080; text-decoration-color: #000080\">│</span>    - Left Bank: MM C                                                                                            <span style=\"color: #000080; text-decoration-color: #000080\">│</span>\n",
       "<span style=\"color: #000080; text-decoration-color: #000080\">│</span>    - Right Bank: M CC                                                                                           <span style=\"color: #000080; text-decoration-color: #000080\">│</span>\n",
       "<span style=\"color: #000080; text-decoration-color: #000080\">│</span>    - Boat: C|M returns to the left                                                                              <span style=\"color: #000080; text-decoration-color: #000080\">│</span>\n",
       "<span style=\"color: #000080; text-decoration-color: #000080\">│</span>                                                                                                                 <span style=\"color: #000080; text-decoration-color: #000080\">│</span>\n",
       "<span style=\"color: #000080; text-decoration-color: #000080\">│</span> 8. **Move 7: Two Missionaries Cross**                                                                           <span style=\"color: #000080; text-decoration-color: #000080\">│</span>\n",
       "<span style=\"color: #000080; text-decoration-color: #000080\">│</span>    - Left Bank: C                                                                                               <span style=\"color: #000080; text-decoration-color: #000080\">│</span>\n",
       "<span style=\"color: #000080; text-decoration-color: #000080\">│</span>    - Right Bank: MMM CC                                                                                         <span style=\"color: #000080; text-decoration-color: #000080\">│</span>\n",
       "<span style=\"color: #000080; text-decoration-color: #000080\">│</span>    - Boat: M|M crosses to the right                                                                             <span style=\"color: #000080; text-decoration-color: #000080\">│</span>\n",
       "<span style=\"color: #000080; text-decoration-color: #000080\">│</span>                                                                                                                 <span style=\"color: #000080; text-decoration-color: #000080\">│</span>\n",
       "<span style=\"color: #000080; text-decoration-color: #000080\">│</span> 9. **Move 8: One Cannibal Returns**                                                                             <span style=\"color: #000080; text-decoration-color: #000080\">│</span>\n",
       "<span style=\"color: #000080; text-decoration-color: #000080\">│</span>    - Left Bank: CC                                                                                              <span style=\"color: #000080; text-decoration-color: #000080\">│</span>\n",
       "<span style=\"color: #000080; text-decoration-color: #000080\">│</span>    - Right Bank: MMM C                                                                                          <span style=\"color: #000080; text-decoration-color: #000080\">│</span>\n",
       "<span style=\"color: #000080; text-decoration-color: #000080\">│</span>    - Boat: C returns to the left                                                                                <span style=\"color: #000080; text-decoration-color: #000080\">│</span>\n",
       "<span style=\"color: #000080; text-decoration-color: #000080\">│</span>                                                                                                                 <span style=\"color: #000080; text-decoration-color: #000080\">│</span>\n",
       "<span style=\"color: #000080; text-decoration-color: #000080\">│</span> 10. **Move 9: Two Cannibals Cross**                                                                             <span style=\"color: #000080; text-decoration-color: #000080\">│</span>\n",
       "<span style=\"color: #000080; text-decoration-color: #000080\">│</span>     - Left Bank:                                                                                                <span style=\"color: #000080; text-decoration-color: #000080\">│</span>\n",
       "<span style=\"color: #000080; text-decoration-color: #000080\">│</span>     - Right Bank: MMM CCC                                                                                       <span style=\"color: #000080; text-decoration-color: #000080\">│</span>\n",
       "<span style=\"color: #000080; text-decoration-color: #000080\">│</span>     - Boat: C|C crosses to the right                                                                            <span style=\"color: #000080; text-decoration-color: #000080\">│</span>\n",
       "<span style=\"color: #000080; text-decoration-color: #000080\">│</span>                                                                                                                 <span style=\"color: #000080; text-decoration-color: #000080\">│</span>\n",
       "<span style=\"color: #000080; text-decoration-color: #000080\">│</span> ### ASCII Diagram                                                                                               <span style=\"color: #000080; text-decoration-color: #000080\">│</span>\n",
       "<span style=\"color: #000080; text-decoration-color: #000080\">│</span>                                                                                                                 <span style=\"color: #000080; text-decoration-color: #000080\">│</span>\n",
       "<span style=\"color: #000080; text-decoration-color: #000080\">│</span> Below is the ASCII representation of the steps:                                                                 <span style=\"color: #000080; text-decoration-color: #000080\">│</span>\n",
       "<span style=\"color: #000080; text-decoration-color: #000080\">│</span>                                                                                                                 <span style=\"color: #000080; text-decoration-color: #000080\">│</span>\n",
       "<span style=\"color: #000080; text-decoration-color: #000080\">│</span> ```                                                                                                             <span style=\"color: #000080; text-decoration-color: #000080\">│</span>\n",
       "<span style=\"color: #000080; text-decoration-color: #000080\">│</span> Initial:                                                                                                        <span style=\"color: #000080; text-decoration-color: #000080\">│</span>\n",
       "<span style=\"color: #000080; text-decoration-color: #000080\">│</span> Left Bank:  MMM CCC | Right Bank:                                                                               <span style=\"color: #000080; text-decoration-color: #000080\">│</span>\n",
       "<span style=\"color: #000080; text-decoration-color: #000080\">│</span>                                                                                                                 <span style=\"color: #000080; text-decoration-color: #000080\">│</span>\n",
       "<span style=\"color: #000080; text-decoration-color: #000080\">│</span> Move 1:                                                                                                         <span style=\"color: #000080; text-decoration-color: #000080\">│</span>\n",
       "<span style=\"color: #000080; text-decoration-color: #000080\">│</span> Left Bank:  MMM C   | Right Bank: CC                                                                            <span style=\"color: #000080; text-decoration-color: #000080\">│</span>\n",
       "<span style=\"color: #000080; text-decoration-color: #000080\">│</span>                                                                                                                 <span style=\"color: #000080; text-decoration-color: #000080\">│</span>\n",
       "<span style=\"color: #000080; text-decoration-color: #000080\">│</span> Move 2:                                                                                                         <span style=\"color: #000080; text-decoration-color: #000080\">│</span>\n",
       "<span style=\"color: #000080; text-decoration-color: #000080\">│</span> Left Bank:  MMM CC  | Right Bank: C                                                                             <span style=\"color: #000080; text-decoration-color: #000080\">│</span>\n",
       "<span style=\"color: #000080; text-decoration-color: #000080\">│</span>                                                                                                                 <span style=\"color: #000080; text-decoration-color: #000080\">│</span>\n",
       "<span style=\"color: #000080; text-decoration-color: #000080\">│</span> Move 3:                                                                                                         <span style=\"color: #000080; text-decoration-color: #000080\">│</span>\n",
       "<span style=\"color: #000080; text-decoration-color: #000080\">│</span> Left Bank:  MMM     | Right Bank: CCC                                                                           <span style=\"color: #000080; text-decoration-color: #000080\">│</span>\n",
       "<span style=\"color: #000080; text-decoration-color: #000080\">│</span>                                                                                                                 <span style=\"color: #000080; text-decoration-color: #000080\">│</span>\n",
       "<span style=\"color: #000080; text-decoration-color: #000080\">│</span> Move 4:                                                                                                         <span style=\"color: #000080; text-decoration-color: #000080\">│</span>\n",
       "<span style=\"color: #000080; text-decoration-color: #000080\">│</span> Left Bank:  MMM C   | Right Bank: CC                                                                            <span style=\"color: #000080; text-decoration-color: #000080\">│</span>\n",
       "<span style=\"color: #000080; text-decoration-color: #000080\">│</span>                                                                                                                 <span style=\"color: #000080; text-decoration-color: #000080\">│</span>\n",
       "<span style=\"color: #000080; text-decoration-color: #000080\">│</span> Move 5:                                                                                                         <span style=\"color: #000080; text-decoration-color: #000080\">│</span>\n",
       "<span style=\"color: #000080; text-decoration-color: #000080\">│</span> Left Bank:  M C     | Right Bank: MM CC                                                                         <span style=\"color: #000080; text-decoration-color: #000080\">│</span>\n",
       "<span style=\"color: #000080; text-decoration-color: #000080\">│</span>                                                                                                                 <span style=\"color: #000080; text-decoration-color: #000080\">│</span>\n",
       "<span style=\"color: #000080; text-decoration-color: #000080\">│</span> Move 6:                                                                                                         <span style=\"color: #000080; text-decoration-color: #000080\">│</span>\n",
       "<span style=\"color: #000080; text-decoration-color: #000080\">│</span> Left Bank:  MM C    | Right Bank: M CC                                                                          <span style=\"color: #000080; text-decoration-color: #000080\">│</span>\n",
       "<span style=\"color: #000080; text-decoration-color: #000080\">│</span>                                                                                                                 <span style=\"color: #000080; text-decoration-color: #000080\">│</span>\n",
       "<span style=\"color: #000080; text-decoration-color: #000080\">│</span> Move 7:                                                                                                         <span style=\"color: #000080; text-decoration-color: #000080\">│</span>\n",
       "<span style=\"color: #000080; text-decoration-color: #000080\">│</span> Left Bank:  C       | Right Bank: MMM CC                                                                        <span style=\"color: #000080; text-decoration-color: #000080\">│</span>\n",
       "<span style=\"color: #000080; text-decoration-color: #000080\">│</span>                                                                                                                 <span style=\"color: #000080; text-decoration-color: #000080\">│</span>\n",
       "<span style=\"color: #000080; text-decoration-color: #000080\">│</span> Move 8:                                                                                                         <span style=\"color: #000080; text-decoration-color: #000080\">│</span>\n",
       "<span style=\"color: #000080; text-decoration-color: #000080\">│</span> Left Bank:  CC      | Right Bank: MMM C                                                                         <span style=\"color: #000080; text-decoration-color: #000080\">│</span>\n",
       "<span style=\"color: #000080; text-decoration-color: #000080\">│</span>                                                                                                                 <span style=\"color: #000080; text-decoration-color: #000080\">│</span>\n",
       "<span style=\"color: #000080; text-decoration-color: #000080\">│</span> Move 9:                                                                                                         <span style=\"color: #000080; text-decoration-color: #000080\">│</span>\n",
       "<span style=\"color: #000080; text-decoration-color: #000080\">│</span> Left Bank:          | Right Bank: MMM CCC                                                                       <span style=\"color: #000080; text-decoration-color: #000080\">│</span>\n",
       "<span style=\"color: #000080; text-decoration-color: #000080\">│</span> ```                                                                                                             <span style=\"color: #000080; text-decoration-color: #000080\">│</span>\n",
       "<span style=\"color: #000080; text-decoration-color: #000080\">│</span>                                                                                                                 <span style=\"color: #000080; text-decoration-color: #000080\">│</span>\n",
       "<span style=\"color: #000080; text-decoration-color: #000080\">│</span> By following these steps, we ensure that the missionaries are never outnumbered by cannibals on either side of  <span style=\"color: #000080; text-decoration-color: #000080\">│</span>\n",
       "<span style=\"color: #000080; text-decoration-color: #000080\">│</span> the river.                                                                                                      <span style=\"color: #000080; text-decoration-color: #000080\">│</span>\n",
       "<span style=\"color: #000080; text-decoration-color: #000080\">╰─────────────────────────────────────────────────────────────────────────────────────────────────────────────────╯</span>\n",
       "</pre>\n"
      ],
      "text/plain": [
       "\u001b[34m╭─────────────────────────────────────────────────────────────────────────────────────────────────────────────────╮\u001b[0m\n",
       "\u001b[34m│\u001b[0m Here's a step-by-step solution to ensure all three missionaries and three cannibals cross the river safely      \u001b[34m│\u001b[0m\n",
       "\u001b[34m│\u001b[0m without any missionaries being eaten:                                                                           \u001b[34m│\u001b[0m\n",
       "\u001b[34m│\u001b[0m                                                                                                                 \u001b[34m│\u001b[0m\n",
       "\u001b[34m│\u001b[0m ### Step-by-Step Instructions                                                                                   \u001b[34m│\u001b[0m\n",
       "\u001b[34m│\u001b[0m                                                                                                                 \u001b[34m│\u001b[0m\n",
       "\u001b[34m│\u001b[0m 1. **Initial Setup:**                                                                                           \u001b[34m│\u001b[0m\n",
       "\u001b[34m│\u001b[0m    - Left Bank: MMM CCC                                                                                         \u001b[34m│\u001b[0m\n",
       "\u001b[34m│\u001b[0m    - Right Bank:                                                                                                \u001b[34m│\u001b[0m\n",
       "\u001b[34m│\u001b[0m                                                                                                                 \u001b[34m│\u001b[0m\n",
       "\u001b[34m│\u001b[0m 2. **Move 1: Two Cannibals Cross**                                                                              \u001b[34m│\u001b[0m\n",
       "\u001b[34m│\u001b[0m    - Left Bank: MMM C                                                                                           \u001b[34m│\u001b[0m\n",
       "\u001b[34m│\u001b[0m    - Right Bank: CC                                                                                             \u001b[34m│\u001b[0m\n",
       "\u001b[34m│\u001b[0m    - Boat: C|C crosses to the right                                                                             \u001b[34m│\u001b[0m\n",
       "\u001b[34m│\u001b[0m                                                                                                                 \u001b[34m│\u001b[0m\n",
       "\u001b[34m│\u001b[0m 3. **Move 2: One Cannibal Returns**                                                                             \u001b[34m│\u001b[0m\n",
       "\u001b[34m│\u001b[0m    - Left Bank: MMM CC                                                                                          \u001b[34m│\u001b[0m\n",
       "\u001b[34m│\u001b[0m    - Right Bank: C                                                                                              \u001b[34m│\u001b[0m\n",
       "\u001b[34m│\u001b[0m    - Boat: C returns to the left                                                                                \u001b[34m│\u001b[0m\n",
       "\u001b[34m│\u001b[0m                                                                                                                 \u001b[34m│\u001b[0m\n",
       "\u001b[34m│\u001b[0m 4. **Move 3: Two Cannibals Cross**                                                                              \u001b[34m│\u001b[0m\n",
       "\u001b[34m│\u001b[0m    - Left Bank: MMM                                                                                             \u001b[34m│\u001b[0m\n",
       "\u001b[34m│\u001b[0m    - Right Bank: CCC                                                                                            \u001b[34m│\u001b[0m\n",
       "\u001b[34m│\u001b[0m    - Boat: C|C crosses to the right                                                                             \u001b[34m│\u001b[0m\n",
       "\u001b[34m│\u001b[0m                                                                                                                 \u001b[34m│\u001b[0m\n",
       "\u001b[34m│\u001b[0m 5. **Move 4: One Cannibal Returns**                                                                             \u001b[34m│\u001b[0m\n",
       "\u001b[34m│\u001b[0m    - Left Bank: MMM C                                                                                           \u001b[34m│\u001b[0m\n",
       "\u001b[34m│\u001b[0m    - Right Bank: CC                                                                                             \u001b[34m│\u001b[0m\n",
       "\u001b[34m│\u001b[0m    - Boat: C returns to the left                                                                                \u001b[34m│\u001b[0m\n",
       "\u001b[34m│\u001b[0m                                                                                                                 \u001b[34m│\u001b[0m\n",
       "\u001b[34m│\u001b[0m 6. **Move 5: Two Missionaries Cross**                                                                           \u001b[34m│\u001b[0m\n",
       "\u001b[34m│\u001b[0m    - Left Bank: M C                                                                                             \u001b[34m│\u001b[0m\n",
       "\u001b[34m│\u001b[0m    - Right Bank: MM CC                                                                                          \u001b[34m│\u001b[0m\n",
       "\u001b[34m│\u001b[0m    - Boat: M|M crosses to the right                                                                             \u001b[34m│\u001b[0m\n",
       "\u001b[34m│\u001b[0m                                                                                                                 \u001b[34m│\u001b[0m\n",
       "\u001b[34m│\u001b[0m 7. **Move 6: One Cannibal and One Missionary Return**                                                           \u001b[34m│\u001b[0m\n",
       "\u001b[34m│\u001b[0m    - Left Bank: MM C                                                                                            \u001b[34m│\u001b[0m\n",
       "\u001b[34m│\u001b[0m    - Right Bank: M CC                                                                                           \u001b[34m│\u001b[0m\n",
       "\u001b[34m│\u001b[0m    - Boat: C|M returns to the left                                                                              \u001b[34m│\u001b[0m\n",
       "\u001b[34m│\u001b[0m                                                                                                                 \u001b[34m│\u001b[0m\n",
       "\u001b[34m│\u001b[0m 8. **Move 7: Two Missionaries Cross**                                                                           \u001b[34m│\u001b[0m\n",
       "\u001b[34m│\u001b[0m    - Left Bank: C                                                                                               \u001b[34m│\u001b[0m\n",
       "\u001b[34m│\u001b[0m    - Right Bank: MMM CC                                                                                         \u001b[34m│\u001b[0m\n",
       "\u001b[34m│\u001b[0m    - Boat: M|M crosses to the right                                                                             \u001b[34m│\u001b[0m\n",
       "\u001b[34m│\u001b[0m                                                                                                                 \u001b[34m│\u001b[0m\n",
       "\u001b[34m│\u001b[0m 9. **Move 8: One Cannibal Returns**                                                                             \u001b[34m│\u001b[0m\n",
       "\u001b[34m│\u001b[0m    - Left Bank: CC                                                                                              \u001b[34m│\u001b[0m\n",
       "\u001b[34m│\u001b[0m    - Right Bank: MMM C                                                                                          \u001b[34m│\u001b[0m\n",
       "\u001b[34m│\u001b[0m    - Boat: C returns to the left                                                                                \u001b[34m│\u001b[0m\n",
       "\u001b[34m│\u001b[0m                                                                                                                 \u001b[34m│\u001b[0m\n",
       "\u001b[34m│\u001b[0m 10. **Move 9: Two Cannibals Cross**                                                                             \u001b[34m│\u001b[0m\n",
       "\u001b[34m│\u001b[0m     - Left Bank:                                                                                                \u001b[34m│\u001b[0m\n",
       "\u001b[34m│\u001b[0m     - Right Bank: MMM CCC                                                                                       \u001b[34m│\u001b[0m\n",
       "\u001b[34m│\u001b[0m     - Boat: C|C crosses to the right                                                                            \u001b[34m│\u001b[0m\n",
       "\u001b[34m│\u001b[0m                                                                                                                 \u001b[34m│\u001b[0m\n",
       "\u001b[34m│\u001b[0m ### ASCII Diagram                                                                                               \u001b[34m│\u001b[0m\n",
       "\u001b[34m│\u001b[0m                                                                                                                 \u001b[34m│\u001b[0m\n",
       "\u001b[34m│\u001b[0m Below is the ASCII representation of the steps:                                                                 \u001b[34m│\u001b[0m\n",
       "\u001b[34m│\u001b[0m                                                                                                                 \u001b[34m│\u001b[0m\n",
       "\u001b[34m│\u001b[0m ```                                                                                                             \u001b[34m│\u001b[0m\n",
       "\u001b[34m│\u001b[0m Initial:                                                                                                        \u001b[34m│\u001b[0m\n",
       "\u001b[34m│\u001b[0m Left Bank:  MMM CCC | Right Bank:                                                                               \u001b[34m│\u001b[0m\n",
       "\u001b[34m│\u001b[0m                                                                                                                 \u001b[34m│\u001b[0m\n",
       "\u001b[34m│\u001b[0m Move 1:                                                                                                         \u001b[34m│\u001b[0m\n",
       "\u001b[34m│\u001b[0m Left Bank:  MMM C   | Right Bank: CC                                                                            \u001b[34m│\u001b[0m\n",
       "\u001b[34m│\u001b[0m                                                                                                                 \u001b[34m│\u001b[0m\n",
       "\u001b[34m│\u001b[0m Move 2:                                                                                                         \u001b[34m│\u001b[0m\n",
       "\u001b[34m│\u001b[0m Left Bank:  MMM CC  | Right Bank: C                                                                             \u001b[34m│\u001b[0m\n",
       "\u001b[34m│\u001b[0m                                                                                                                 \u001b[34m│\u001b[0m\n",
       "\u001b[34m│\u001b[0m Move 3:                                                                                                         \u001b[34m│\u001b[0m\n",
       "\u001b[34m│\u001b[0m Left Bank:  MMM     | Right Bank: CCC                                                                           \u001b[34m│\u001b[0m\n",
       "\u001b[34m│\u001b[0m                                                                                                                 \u001b[34m│\u001b[0m\n",
       "\u001b[34m│\u001b[0m Move 4:                                                                                                         \u001b[34m│\u001b[0m\n",
       "\u001b[34m│\u001b[0m Left Bank:  MMM C   | Right Bank: CC                                                                            \u001b[34m│\u001b[0m\n",
       "\u001b[34m│\u001b[0m                                                                                                                 \u001b[34m│\u001b[0m\n",
       "\u001b[34m│\u001b[0m Move 5:                                                                                                         \u001b[34m│\u001b[0m\n",
       "\u001b[34m│\u001b[0m Left Bank:  M C     | Right Bank: MM CC                                                                         \u001b[34m│\u001b[0m\n",
       "\u001b[34m│\u001b[0m                                                                                                                 \u001b[34m│\u001b[0m\n",
       "\u001b[34m│\u001b[0m Move 6:                                                                                                         \u001b[34m│\u001b[0m\n",
       "\u001b[34m│\u001b[0m Left Bank:  MM C    | Right Bank: M CC                                                                          \u001b[34m│\u001b[0m\n",
       "\u001b[34m│\u001b[0m                                                                                                                 \u001b[34m│\u001b[0m\n",
       "\u001b[34m│\u001b[0m Move 7:                                                                                                         \u001b[34m│\u001b[0m\n",
       "\u001b[34m│\u001b[0m Left Bank:  C       | Right Bank: MMM CC                                                                        \u001b[34m│\u001b[0m\n",
       "\u001b[34m│\u001b[0m                                                                                                                 \u001b[34m│\u001b[0m\n",
       "\u001b[34m│\u001b[0m Move 8:                                                                                                         \u001b[34m│\u001b[0m\n",
       "\u001b[34m│\u001b[0m Left Bank:  CC      | Right Bank: MMM C                                                                         \u001b[34m│\u001b[0m\n",
       "\u001b[34m│\u001b[0m                                                                                                                 \u001b[34m│\u001b[0m\n",
       "\u001b[34m│\u001b[0m Move 9:                                                                                                         \u001b[34m│\u001b[0m\n",
       "\u001b[34m│\u001b[0m Left Bank:          | Right Bank: MMM CCC                                                                       \u001b[34m│\u001b[0m\n",
       "\u001b[34m│\u001b[0m ```                                                                                                             \u001b[34m│\u001b[0m\n",
       "\u001b[34m│\u001b[0m                                                                                                                 \u001b[34m│\u001b[0m\n",
       "\u001b[34m│\u001b[0m By following these steps, we ensure that the missionaries are never outnumbered by cannibals on either side of  \u001b[34m│\u001b[0m\n",
       "\u001b[34m│\u001b[0m the river.                                                                                                      \u001b[34m│\u001b[0m\n",
       "\u001b[34m╰─────────────────────────────────────────────────────────────────────────────────────────────────────────────────╯\u001b[0m\n"
      ]
     },
     "metadata": {},
     "output_type": "display_data"
    }
   ],
   "source": [
    "query= \"Generative AI\"\n",
    "# response: Iterator[RunResponse] = agent.run(\"Give me the latest news in AI\", stream_intermediate_steps=True, stream=True)\n",
    "# # Print the response in markdown format\n",
    "# pprint_run_response(response, markdown=True)\n",
    "query= (\n",
    "    \"Three missionaries and three cannibals need to cross a river. \"\n",
    "    \"They have a boat that can carry up to two people at a time. \"\n",
    "    \"If, at any time, the cannibals outnumber the missionaries on either side of the river, the cannibals will eat the missionaries. \"\n",
    "    \"How can all six people get across the river safely? Provide a step-by-step solution and show the solutions as an ascii diagram\"\n",
    ")\n",
    "response= agent.run(query)\n",
    "pprint_run_response(response)"
   ]
  },
  {
   "cell_type": "code",
   "execution_count": 46,
   "metadata": {},
   "outputs": [
    {
     "name": "stdout",
     "output_type": "stream",
     "text": [
      "Here's a step-by-step solution to ensure all three missionaries and three cannibals cross the river safely without any missionaries being eaten:\n",
      "\n",
      "### Step-by-Step Instructions\n",
      "\n",
      "1. **Initial Setup:**\n",
      "   - Left Bank: MMM CCC\n",
      "   - Right Bank: \n",
      "\n",
      "2. **Move 1: Two Cannibals Cross**\n",
      "   - Left Bank: MMM C\n",
      "   - Right Bank: CC\n",
      "   - Boat: C|C crosses to the right\n",
      "\n",
      "3. **Move 2: One Cannibal Returns**\n",
      "   - Left Bank: MMM CC\n",
      "   - Right Bank: C\n",
      "   - Boat: C returns to the left\n",
      "\n",
      "4. **Move 3: Two Cannibals Cross**\n",
      "   - Left Bank: MMM\n",
      "   - Right Bank: CCC\n",
      "   - Boat: C|C crosses to the right\n",
      "\n",
      "5. **Move 4: One Cannibal Returns**\n",
      "   - Left Bank: MMM C\n",
      "   - Right Bank: CC\n",
      "   - Boat: C returns to the left\n",
      "\n",
      "6. **Move 5: Two Missionaries Cross**\n",
      "   - Left Bank: M C\n",
      "   - Right Bank: MM CC\n",
      "   - Boat: M|M crosses to the right\n",
      "\n",
      "7. **Move 6: One Cannibal and One Missionary Return**\n",
      "   - Left Bank: MM C\n",
      "   - Right Bank: M CC\n",
      "   - Boat: C|M returns to the left\n",
      "\n",
      "8. **Move 7: Two Missionaries Cross**\n",
      "   - Left Bank: C\n",
      "   - Right Bank: MMM CC\n",
      "   - Boat: M|M crosses to the right\n",
      "\n",
      "9. **Move 8: One Cannibal Returns**\n",
      "   - Left Bank: CC\n",
      "   - Right Bank: MMM C\n",
      "   - Boat: C returns to the left\n",
      "\n",
      "10. **Move 9: Two Cannibals Cross**\n",
      "    - Left Bank:\n",
      "    - Right Bank: MMM CCC\n",
      "    - Boat: C|C crosses to the right\n",
      "\n",
      "### ASCII Diagram\n",
      "\n",
      "Below is the ASCII representation of the steps:\n",
      "\n",
      "```\n",
      "Initial:\n",
      "Left Bank:  MMM CCC | Right Bank:\n",
      "\n",
      "Move 1:\n",
      "Left Bank:  MMM C   | Right Bank: CC\n",
      "\n",
      "Move 2:\n",
      "Left Bank:  MMM CC  | Right Bank: C\n",
      "\n",
      "Move 3:\n",
      "Left Bank:  MMM     | Right Bank: CCC\n",
      "\n",
      "Move 4:\n",
      "Left Bank:  MMM C   | Right Bank: CC\n",
      "\n",
      "Move 5:\n",
      "Left Bank:  M C     | Right Bank: MM CC\n",
      "\n",
      "Move 6:\n",
      "Left Bank:  MM C    | Right Bank: M CC\n",
      "\n",
      "Move 7:\n",
      "Left Bank:  C       | Right Bank: MMM CC\n",
      "\n",
      "Move 8:\n",
      "Left Bank:  CC      | Right Bank: MMM C\n",
      "\n",
      "Move 9:\n",
      "Left Bank:          | Right Bank: MMM CCC\n",
      "```\n",
      "\n",
      "By following these steps, we ensure that the missionaries are never outnumbered by cannibals on either side of the river.\n"
     ]
    }
   ],
   "source": [
    "# print(response.tools[0][\"content\"])\n",
    "print(response.content)"
   ]
  }
 ],
 "metadata": {
  "kernelspec": {
   "display_name": "mugen",
   "language": "python",
   "name": "python3"
  },
  "language_info": {
   "codemirror_mode": {
    "name": "ipython",
    "version": 3
   },
   "file_extension": ".py",
   "mimetype": "text/x-python",
   "name": "python",
   "nbconvert_exporter": "python",
   "pygments_lexer": "ipython3",
   "version": "3.10.16"
  }
 },
 "nbformat": 4,
 "nbformat_minor": 2
}
